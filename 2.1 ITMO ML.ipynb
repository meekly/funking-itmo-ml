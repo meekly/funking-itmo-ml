{
 "cells": [
  {
   "cell_type": "markdown",
   "metadata": {},
   "source": [
    "# Task 2.1 (ML ITMO)"
   ]
  },
  {
   "cell_type": "code",
   "execution_count": 3,
   "metadata": {},
   "outputs": [
    {
     "name": "stdout",
     "output_type": "stream",
     "text": [
      "   id   X   Y\n",
      "0   1  12  26\n",
      "1   2  17  50\n",
      "2   3   4   9\n",
      "3   4   1   3\n",
      "4   5  10  25\n",
      "5   6   7  19\n",
      "6   7  21  53\n",
      "7   8  18  40\n",
      "8   9  16  26\n",
      "9  10  14  25\n"
     ]
    }
   ],
   "source": [
    "import pandas as pd\n",
    "data = pd.read_csv(\"2.1.csv\")\n",
    "print(data)"
   ]
  },
  {
   "cell_type": "code",
   "execution_count": 15,
   "metadata": {},
   "outputs": [],
   "source": [
    "AX = sum(data['X']) / 10"
   ]
  },
  {
   "cell_type": "code",
   "execution_count": 14,
   "metadata": {},
   "outputs": [],
   "source": [
    "AY = sum(data['Y']) / 10"
   ]
  },
  {
   "cell_type": "code",
   "execution_count": 21,
   "metadata": {},
   "outputs": [
    {
     "name": "stdout",
     "output_type": "stream",
     "text": [
      "2.3164893617021276\n",
      "-0.1978723404255298\n"
     ]
    }
   ],
   "source": [
    "lt = ld = 0\n",
    "rt = AY * sum(data['X'])\n",
    "rd = AX * sum(data['X'])\n",
    "for i in range(10):\n",
    "    lt += data['X'][i] * data['Y'][i] \n",
    "    ld += data['X'][i]**2\n",
    "    \n",
    "fi1 = (lt - rt)/(ld - rd)\n",
    "\n",
    "\n",
    "llt = rd * AY\n",
    "rrt = AX * lt\n",
    "lld = ld\n",
    "rrd = rd\n",
    "\n",
    "fi0 = AY - fi1*AX\n",
    "\n",
    "print(fi1)\n",
    "print(fi0)"
   ]
  },
  {
   "cell_type": "code",
   "execution_count": 22,
   "metadata": {},
   "outputs": [
    {
     "data": {
      "text/plain": [
       "0.8606305383221946"
      ]
     },
     "execution_count": 22,
     "metadata": {},
     "output_type": "execute_result"
    }
   ],
   "source": [
    "d = t = 0\n",
    "for i in range(10):\n",
    "    t += (data['Y'][i] - fi0 - fi1*data['X'][i])**2\n",
    "    d += (data['Y'][i] - AY)**2\n",
    "\n",
    "1 - t/d"
   ]
  }
 ],
 "metadata": {
  "kernelspec": {
   "display_name": "Python 3",
   "language": "python",
   "name": "python3"
  },
  "language_info": {
   "codemirror_mode": {
    "name": "ipython",
    "version": 3
   },
   "file_extension": ".py",
   "mimetype": "text/x-python",
   "name": "python",
   "nbconvert_exporter": "python",
   "pygments_lexer": "ipython3",
   "version": "3.7.5"
  }
 },
 "nbformat": 4,
 "nbformat_minor": 2
}
