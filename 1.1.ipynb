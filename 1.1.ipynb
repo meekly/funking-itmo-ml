{
 "cells": [
  {
   "cell_type": "code",
   "execution_count": 5,
   "metadata": {},
   "outputs": [
    {
     "data": {
      "text/html": [
       "<div>\n",
       "<style scoped>\n",
       "    .dataframe tbody tr th:only-of-type {\n",
       "        vertical-align: middle;\n",
       "    }\n",
       "\n",
       "    .dataframe tbody tr th {\n",
       "        vertical-align: top;\n",
       "    }\n",
       "\n",
       "    .dataframe thead th {\n",
       "        text-align: right;\n",
       "    }\n",
       "</style>\n",
       "<table border=\"1\" class=\"dataframe\">\n",
       "  <thead>\n",
       "    <tr style=\"text-align: right;\">\n",
       "      <th></th>\n",
       "      <th>Region_EN</th>\n",
       "      <th>AVG_Salary</th>\n",
       "      <th>Population</th>\n",
       "      <th>Unnamed: 4</th>\n",
       "    </tr>\n",
       "    <tr>\n",
       "      <th>Region_RU</th>\n",
       "      <th></th>\n",
       "      <th></th>\n",
       "      <th></th>\n",
       "      <th></th>\n",
       "    </tr>\n",
       "  </thead>\n",
       "  <tbody>\n",
       "    <tr>\n",
       "      <th>Алтайский край</th>\n",
       "      <td>Altai Region</td>\n",
       "      <td>25960</td>\n",
       "      <td>218866</td>\n",
       "      <td>NaN</td>\n",
       "    </tr>\n",
       "    <tr>\n",
       "      <th>Амурская область</th>\n",
       "      <td>Amur Region</td>\n",
       "      <td>43156</td>\n",
       "      <td>793194</td>\n",
       "      <td>NaN</td>\n",
       "    </tr>\n",
       "    <tr>\n",
       "      <th>Архангельская область</th>\n",
       "      <td>Arkhangelsk Region</td>\n",
       "      <td>47526</td>\n",
       "      <td>1144119</td>\n",
       "      <td>NaN</td>\n",
       "    </tr>\n",
       "    <tr>\n",
       "      <th>Астраханская область</th>\n",
       "      <td>Astrakhan Region</td>\n",
       "      <td>32166</td>\n",
       "      <td>1014065</td>\n",
       "      <td>NaN</td>\n",
       "    </tr>\n",
       "    <tr>\n",
       "      <th>Белгородская область</th>\n",
       "      <td>Belgorod Region</td>\n",
       "      <td>31163</td>\n",
       "      <td>1547418</td>\n",
       "      <td>NaN</td>\n",
       "    </tr>\n",
       "    <tr>\n",
       "      <th>...</th>\n",
       "      <td>...</td>\n",
       "      <td>...</td>\n",
       "      <td>...</td>\n",
       "      <td>...</td>\n",
       "    </tr>\n",
       "    <tr>\n",
       "      <th>Чеченская Республика</th>\n",
       "      <td>Republic of Chechnya</td>\n",
       "      <td>26108</td>\n",
       "      <td>1456951</td>\n",
       "      <td>NaN</td>\n",
       "    </tr>\n",
       "    <tr>\n",
       "      <th>Чувашская Республика</th>\n",
       "      <td>Chuvash Republic</td>\n",
       "      <td>27028</td>\n",
       "      <td>1223395</td>\n",
       "      <td>NaN</td>\n",
       "    </tr>\n",
       "    <tr>\n",
       "      <th>Чукотский АО</th>\n",
       "      <td>Chukotka AO</td>\n",
       "      <td>96930</td>\n",
       "      <td>49663</td>\n",
       "      <td>NaN</td>\n",
       "    </tr>\n",
       "    <tr>\n",
       "      <th>Ямало-Ненецкий АО</th>\n",
       "      <td>Yamalo-Nenets Autonomous district</td>\n",
       "      <td>86560</td>\n",
       "      <td>541479</td>\n",
       "      <td>NaN</td>\n",
       "    </tr>\n",
       "    <tr>\n",
       "      <th>Ярославская область</th>\n",
       "      <td>Yaroslavl Region</td>\n",
       "      <td>33882</td>\n",
       "      <td>1259612</td>\n",
       "      <td>NaN</td>\n",
       "    </tr>\n",
       "  </tbody>\n",
       "</table>\n",
       "<p>85 rows × 4 columns</p>\n",
       "</div>"
      ],
      "text/plain": [
       "                                               Region_EN  AVG_Salary  \\\n",
       "Region_RU                                                              \n",
       "Алтайский край                              Altai Region       25960   \n",
       "Амурская область                             Amur Region       43156   \n",
       "Архангельская область                 Arkhangelsk Region       47526   \n",
       "Астраханская область                    Astrakhan Region       32166   \n",
       "Белгородская область                     Belgorod Region       31163   \n",
       "...                                                  ...         ...   \n",
       "Чеченская Республика                Republic of Chechnya       26108   \n",
       "Чувашская Республика                    Chuvash Republic       27028   \n",
       "Чукотский АО                                 Chukotka AO       96930   \n",
       "Ямало-Ненецкий АО      Yamalo-Nenets Autonomous district       86560   \n",
       "Ярославская область                     Yaroslavl Region       33882   \n",
       "\n",
       "                       Population  Unnamed: 4  \n",
       "Region_RU                                      \n",
       "Алтайский край             218866         NaN  \n",
       "Амурская область           793194         NaN  \n",
       "Архангельская область     1144119         NaN  \n",
       "Астраханская область      1014065         NaN  \n",
       "Белгородская область      1547418         NaN  \n",
       "...                           ...         ...  \n",
       "Чеченская Республика      1456951         NaN  \n",
       "Чувашская Республика      1223395         NaN  \n",
       "Чукотский АО                49663         NaN  \n",
       "Ямало-Ненецкий АО          541479         NaN  \n",
       "Ярославская область       1259612         NaN  \n",
       "\n",
       "[85 rows x 4 columns]"
      ]
     },
     "execution_count": 5,
     "metadata": {},
     "output_type": "execute_result"
    }
   ],
   "source": [
    "import pandas as pd\n",
    "DATA = pd.read_csv('salary_and_population.csv', index_col='Region_RU')\n",
    "DATA"
   ]
  },
  {
   "cell_type": "code",
   "execution_count": 10,
   "metadata": {},
   "outputs": [
    {
     "data": {
      "text/html": [
       "<div>\n",
       "<style scoped>\n",
       "    .dataframe tbody tr th:only-of-type {\n",
       "        vertical-align: middle;\n",
       "    }\n",
       "\n",
       "    .dataframe tbody tr th {\n",
       "        vertical-align: top;\n",
       "    }\n",
       "\n",
       "    .dataframe thead th {\n",
       "        text-align: right;\n",
       "    }\n",
       "</style>\n",
       "<table border=\"1\" class=\"dataframe\">\n",
       "  <thead>\n",
       "    <tr style=\"text-align: right;\">\n",
       "      <th></th>\n",
       "      <th>Region_EN</th>\n",
       "      <th>AVG_Salary</th>\n",
       "      <th>Unnamed: 4</th>\n",
       "    </tr>\n",
       "    <tr>\n",
       "      <th>Region_RU</th>\n",
       "      <th></th>\n",
       "      <th></th>\n",
       "      <th></th>\n",
       "    </tr>\n",
       "  </thead>\n",
       "  <tbody>\n",
       "    <tr>\n",
       "      <th>Алтайский край</th>\n",
       "      <td>Altai Region</td>\n",
       "      <td>25960</td>\n",
       "      <td>NaN</td>\n",
       "    </tr>\n",
       "    <tr>\n",
       "      <th>Амурская область</th>\n",
       "      <td>Amur Region</td>\n",
       "      <td>43156</td>\n",
       "      <td>NaN</td>\n",
       "    </tr>\n",
       "    <tr>\n",
       "      <th>Архангельская область</th>\n",
       "      <td>Arkhangelsk Region</td>\n",
       "      <td>47526</td>\n",
       "      <td>NaN</td>\n",
       "    </tr>\n",
       "    <tr>\n",
       "      <th>Астраханская область</th>\n",
       "      <td>Astrakhan Region</td>\n",
       "      <td>32166</td>\n",
       "      <td>NaN</td>\n",
       "    </tr>\n",
       "    <tr>\n",
       "      <th>Белгородская область</th>\n",
       "      <td>Belgorod Region</td>\n",
       "      <td>31163</td>\n",
       "      <td>NaN</td>\n",
       "    </tr>\n",
       "    <tr>\n",
       "      <th>...</th>\n",
       "      <td>...</td>\n",
       "      <td>...</td>\n",
       "      <td>...</td>\n",
       "    </tr>\n",
       "    <tr>\n",
       "      <th>Чеченская Республика</th>\n",
       "      <td>Republic of Chechnya</td>\n",
       "      <td>26108</td>\n",
       "      <td>NaN</td>\n",
       "    </tr>\n",
       "    <tr>\n",
       "      <th>Чувашская Республика</th>\n",
       "      <td>Chuvash Republic</td>\n",
       "      <td>27028</td>\n",
       "      <td>NaN</td>\n",
       "    </tr>\n",
       "    <tr>\n",
       "      <th>Чукотский АО</th>\n",
       "      <td>Chukotka AO</td>\n",
       "      <td>96930</td>\n",
       "      <td>NaN</td>\n",
       "    </tr>\n",
       "    <tr>\n",
       "      <th>Ямало-Ненецкий АО</th>\n",
       "      <td>Yamalo-Nenets Autonomous district</td>\n",
       "      <td>86560</td>\n",
       "      <td>NaN</td>\n",
       "    </tr>\n",
       "    <tr>\n",
       "      <th>Ярославская область</th>\n",
       "      <td>Yaroslavl Region</td>\n",
       "      <td>33882</td>\n",
       "      <td>NaN</td>\n",
       "    </tr>\n",
       "  </tbody>\n",
       "</table>\n",
       "<p>80 rows × 3 columns</p>\n",
       "</div>"
      ],
      "text/plain": [
       "                                               Region_EN  AVG_Salary  \\\n",
       "Region_RU                                                              \n",
       "Алтайский край                              Altai Region       25960   \n",
       "Амурская область                             Amur Region       43156   \n",
       "Архангельская область                 Arkhangelsk Region       47526   \n",
       "Астраханская область                    Astrakhan Region       32166   \n",
       "Белгородская область                     Belgorod Region       31163   \n",
       "...                                                  ...         ...   \n",
       "Чеченская Республика                Republic of Chechnya       26108   \n",
       "Чувашская Республика                    Chuvash Republic       27028   \n",
       "Чукотский АО                                 Chukotka AO       96930   \n",
       "Ямало-Ненецкий АО      Yamalo-Nenets Autonomous district       86560   \n",
       "Ярославская область                     Yaroslavl Region       33882   \n",
       "\n",
       "                       Unnamed: 4  \n",
       "Region_RU                          \n",
       "Алтайский край                NaN  \n",
       "Амурская область              NaN  \n",
       "Архангельская область         NaN  \n",
       "Астраханская область          NaN  \n",
       "Белгородская область          NaN  \n",
       "...                           ...  \n",
       "Чеченская Республика          NaN  \n",
       "Чувашская Республика          NaN  \n",
       "Чукотский АО                  NaN  \n",
       "Ямало-Ненецкий АО             NaN  \n",
       "Ярославская область           NaN  \n",
       "\n",
       "[80 rows x 3 columns]"
      ]
     },
     "execution_count": 10,
     "metadata": {},
     "output_type": "execute_result"
    }
   ],
   "source": [
    "new_data = DATA.drop(['Самарская область', 'Нижегородская область', 'Кемеровская область', 'Приморский край', 'Ненецкий АО'])\n",
    "new_data = new_data.drop(['Population'], axis=1)\n",
    "new_data"
   ]
  },
  {
   "cell_type": "code",
   "execution_count": 19,
   "metadata": {},
   "outputs": [
    {
     "data": {
      "text/plain": [
       "38468.55"
      ]
     },
     "execution_count": 19,
     "metadata": {},
     "output_type": "execute_result"
    }
   ],
   "source": [
    "new_data['AVG_Salary'].mean()"
   ]
  },
  {
   "cell_type": "code",
   "execution_count": 21,
   "metadata": {},
   "outputs": [
    {
     "data": {
      "text/plain": [
       "32089.5"
      ]
     },
     "execution_count": 21,
     "metadata": {},
     "output_type": "execute_result"
    }
   ],
   "source": [
    "new_data['AVG_Salary'].median()"
   ]
  },
  {
   "cell_type": "code",
   "execution_count": 23,
   "metadata": {},
   "outputs": [
    {
     "data": {
      "text/plain": [
       "264880095.4475"
      ]
     },
     "execution_count": 23,
     "metadata": {},
     "output_type": "execute_result"
    }
   ],
   "source": [
    "new_data['AVG_Salary'].var(ddof = 0)"
   ]
  },
  {
   "cell_type": "code",
   "execution_count": 24,
   "metadata": {},
   "outputs": [
    {
     "data": {
      "text/plain": [
       "16275.13734035753"
      ]
     },
     "execution_count": 24,
     "metadata": {},
     "output_type": "execute_result"
    }
   ],
   "source": [
    "new_data['AVG_Salary'].std(ddof = 0)"
   ]
  }
 ],
 "metadata": {
  "kernelspec": {
   "display_name": "Python 3",
   "language": "python",
   "name": "python3"
  },
  "language_info": {
   "codemirror_mode": {
    "name": "ipython",
    "version": 3
   },
   "file_extension": ".py",
   "mimetype": "text/x-python",
   "name": "python",
   "nbconvert_exporter": "python",
   "pygments_lexer": "ipython3",
   "version": "3.7.5"
  }
 },
 "nbformat": 4,
 "nbformat_minor": 2
}
