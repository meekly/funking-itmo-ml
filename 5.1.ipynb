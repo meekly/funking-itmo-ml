{
 "cells": [
  {
   "cell_type": "markdown",
   "metadata": {
    "collapsed": true
   },
   "source": [
    "# Введение в Машинное обучение\n",
    "\n",
    "## Высшая Школа Цифровой Культуры\n",
    "\n",
    "## Материалы к лекции 5. K-Means."
   ]
  },
  {
   "cell_type": "markdown",
   "metadata": {},
   "source": [
    "Обработка данных"
   ]
  },
  {
   "cell_type": "code",
   "execution_count": 1,
   "metadata": {},
   "outputs": [],
   "source": [
    "#чтение данных, так как названия конфет уникальны, используем их в качестве индекса\n",
    "import numpy as np\n",
    "import pandas as pd\n",
    "DATA = pd.read_csv(\"kmeans.csv\", delimiter=',', index_col='Object')"
   ]
  },
  {
   "cell_type": "code",
   "execution_count": 2,
   "metadata": {},
   "outputs": [],
   "source": [
    "#удаление столбца Cluster из набора данных\n",
    "coords = DATA.drop('Cluster', axis=1)"
   ]
  },
  {
   "cell_type": "code",
   "execution_count": 3,
   "metadata": {},
   "outputs": [],
   "source": [
    "#подключение KMeans из библиотеки sklearn\n",
    "from sklearn.cluster import KMeans"
   ]
  },
  {
   "cell_type": "code",
   "execution_count": 4,
   "metadata": {},
   "outputs": [],
   "source": [
    "#координаты центроидов\n",
    "centroid = np.array([[15.0, 8.5], [9.0, 12.83], [14.0, 5.0]])"
   ]
  },
  {
   "cell_type": "code",
   "execution_count": 5,
   "metadata": {},
   "outputs": [],
   "source": [
    "#инициализация модели\n",
    "kmeans = KMeans(n_clusters=3, init=np.array([[15.0, 8.5], [9.0, 12.83], [14.0, 5.0]]), max_iter=100, n_init=1)"
   ]
  },
  {
   "cell_type": "code",
   "execution_count": 6,
   "metadata": {},
   "outputs": [],
   "source": [
    "#обучение модели на данных из coords\n",
    "model = kmeans.fit(coords)"
   ]
  },
  {
   "cell_type": "code",
   "execution_count": 7,
   "metadata": {},
   "outputs": [
    {
     "data": {
      "text/plain": [
       "[0, 1, 0, 0, 0, 2, 2, 0, 2, 2, 1, 0, 1, 1, 2]"
      ]
     },
     "execution_count": 7,
     "metadata": {},
     "output_type": "execute_result"
    }
   ],
   "source": [
    "#вывод назначенных кластеров\n",
    "model.labels_.tolist()"
   ]
  },
  {
   "cell_type": "code",
   "execution_count": 8,
   "metadata": {},
   "outputs": [],
   "source": [
    "#обучение модели и расчет расстояний до центроидов\n",
    "alldistances = kmeans.fit_transform(coords)"
   ]
  },
  {
   "cell_type": "code",
   "execution_count": 9,
   "metadata": {},
   "outputs": [
    {
     "data": {
      "text/plain": [
       "array([ 1.67497927, 10.13039979, 12.30447073,  5.87130498,  5.25594901,\n",
       "       14.12090649,  1.95078332,  7.94512429, 11.76435294,  7.75492675,\n",
       "       13.86091628, 10.13903348,  6.69369521, 12.86953768, 19.80403999,\n",
       "       11.69639071, 15.46366709,  7.9246451 , 18.87164245, 13.78858223,\n",
       "        6.35609943,  6.03922364,  7.97652807, 16.64331698, 14.66761361,\n",
       "       10.00624805,  3.57770876, 11.03655542, 10.13039979,  2.40831892,\n",
       "       13.25916874,  3.95284708, 14.23376268,  2.03442594, 11.09617051,\n",
       "       13.03840481, 12.85063768,  3.69120577, 10.47854952,  8.00867585,\n",
       "        3.2596012 ,  8.63712915, 13.84938827, 11.77391184,  0.4472136 ])"
      ]
     },
     "execution_count": 9,
     "metadata": {},
     "output_type": "execute_result"
    }
   ],
   "source": [
    "#вывод расстояний от данных до всех центроидов\n",
    "alldistances.flatten()"
   ]
  },
  {
   "cell_type": "code",
   "execution_count": 10,
   "metadata": {},
   "outputs": [
    {
     "data": {
      "text/plain": [
       "9.651129426348751"
      ]
     },
     "execution_count": 10,
     "metadata": {},
     "output_type": "execute_result"
    }
   ],
   "source": [
    "model\n",
    "centroid\n",
    "\n",
    "indexes = []\n",
    "for idx, i in enumerate(model.labels_.tolist()):\n",
    "    if i == 0:\n",
    "        indexes.append(idx)\n",
    "\n",
    "arrs = np.array([])\n",
    "for i in indexes:\n",
    "    arrs = np.append(arrs, alldistances[i])\n",
    "    \n",
    "arrs.flatten().mean()"
   ]
  },
  {
   "cell_type": "code",
   "execution_count": 16,
   "metadata": {},
   "outputs": [
    {
     "name": "stdout",
     "output_type": "stream",
     "text": [
      "[ 0  2  3  4  7 11]\n",
      "[0, 2, 3, 4, 7, 11]\n"
     ]
    }
   ],
   "source": [
    "def ClusterIndicesNumpy(clustNum, labels_array): #numpy \n",
    "    return np.where(labels_array == clustNum)[0]\n",
    "ass_0 = ClusterIndicesNumpy(0, model.labels_)\n",
    "print(ass_0)\n",
    "print(indexes)"
   ]
  },
  {
   "cell_type": "code",
   "execution_count": 14,
   "metadata": {},
   "outputs": [
    {
     "data": {
      "text/plain": [
       "14.106735979665885"
      ]
     },
     "execution_count": 14,
     "metadata": {},
     "output_type": "execute_result"
    }
   ],
   "source": [
    "from numpy import linalg as LA\n",
    "LA.norm(ass_0)"
   ]
  },
  {
   "cell_type": "code",
   "execution_count": null,
   "metadata": {},
   "outputs": [],
   "source": []
  }
 ],
 "metadata": {
  "kernelspec": {
   "display_name": "Python 3",
   "language": "python",
   "name": "python3"
  },
  "language_info": {
   "codemirror_mode": {
    "name": "ipython",
    "version": 3
   },
   "file_extension": ".py",
   "mimetype": "text/x-python",
   "name": "python",
   "nbconvert_exporter": "python",
   "pygments_lexer": "ipython3",
   "version": "3.8.1"
  }
 },
 "nbformat": 4,
 "nbformat_minor": 2
}
